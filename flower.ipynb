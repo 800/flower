{
  "nbformat": 4,
  "nbformat_minor": 0,
  "metadata": {
    "colab": {
      "name": "flower.ipynb",
      "provenance": []
    },
    "kernelspec": {
      "name": "python3",
      "display_name": "Python 3"
    },
    "language_info": {
      "name": "python"
    }
  },
  "cells": [
    {
      "cell_type": "code",
      "execution_count": null,
      "metadata": {
        "id": "4gbrU1mcmP2b"
      },
      "outputs": [],
      "source": [
        "import numpy as np\n",
        "\n",
        "import matplotlib.pyplot as plt\n",
        "\n",
        "from mpl_toolkits.mplot3d import Axes3D\n",
        "\n",
        "fig = plt.figure()\n",
        "\n",
        "ax = fig.gca(projection='3d')\n",
        "\n",
        "[x, t] = np.meshgrid(np.array(range(25)) / 24.0, np.arange(0, 575.5, 0.5) / 575 * 30 * np.pi - 4*np.pi)\n",
        "\n",
        "p = (np.pi / 2) * np.exp(-t / (8 * np.pi))\n",
        "\n",
        "change = np.sin(20*t)/50\n",
        "\n",
        "u = 1 - (1 - np.mod(3.3 * t, 2 * np.pi) / np.pi) ** 4 / 2 + change\n",
        "\n",
        "y = 2 * (x ** 2 - x) ** 2 * np.sin(p)\n",
        "\n",
        "r = u * (x * np.sin(p) + y * np.cos(p)) * 1.5\n",
        "\n",
        "h = u * (x * np.cos(p) - y * np.sin(p))\n",
        "\n",
        "c= plt.get_cmap('magma')\n",
        "\n",
        "surf = ax.plot_surface(r * np.cos(t), r * np.sin(t), h, rstride=1, cstride=1,cmap= c, linewidth=0, antialiased=True)\n",
        "\n",
        "plt.show()"
      ]
    }
  ]
}